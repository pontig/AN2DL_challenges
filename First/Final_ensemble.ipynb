{
 "cells": [
  {
   "cell_type": "code",
   "execution_count": 1,
   "id": "633ba627",
   "metadata": {
    "_cell_guid": "b1076dfc-b9ad-4769-8c92-a6c4dae69d19",
    "_uuid": "8f2839f25d086af736a60e9eeb907d3b93b6e0e5",
    "execution": {
     "iopub.execute_input": "2024-11-24T20:39:25.518755Z",
     "iopub.status.busy": "2024-11-24T20:39:25.518427Z",
     "iopub.status.idle": "2024-11-24T20:39:48.510283Z",
     "shell.execute_reply": "2024-11-24T20:39:48.509222Z"
    },
    "papermill": {
     "duration": 22.998118,
     "end_time": "2024-11-24T20:39:48.512174",
     "exception": false,
     "start_time": "2024-11-24T20:39:25.514056",
     "status": "completed"
    },
    "tags": []
   },
   "outputs": [
    {
     "name": "stdout",
     "output_type": "stream",
     "text": [
      "Collecting keras==3.4.1\r\n",
      "  Downloading keras-3.4.1-py3-none-any.whl.metadata (5.8 kB)\r\n",
      "Requirement already satisfied: absl-py in /opt/conda/lib/python3.10/site-packages (from keras==3.4.1) (1.4.0)\r\n",
      "Requirement already satisfied: numpy in /opt/conda/lib/python3.10/site-packages (from keras==3.4.1) (1.26.4)\r\n",
      "Requirement already satisfied: rich in /opt/conda/lib/python3.10/site-packages (from keras==3.4.1) (13.7.1)\r\n",
      "Requirement already satisfied: namex in /opt/conda/lib/python3.10/site-packages (from keras==3.4.1) (0.0.8)\r\n",
      "Requirement already satisfied: h5py in /opt/conda/lib/python3.10/site-packages (from keras==3.4.1) (3.11.0)\r\n",
      "Requirement already satisfied: optree in /opt/conda/lib/python3.10/site-packages (from keras==3.4.1) (0.11.0)\r\n",
      "Requirement already satisfied: ml-dtypes in /opt/conda/lib/python3.10/site-packages (from keras==3.4.1) (0.3.2)\r\n",
      "Requirement already satisfied: packaging in /opt/conda/lib/python3.10/site-packages (from keras==3.4.1) (21.3)\r\n",
      "Requirement already satisfied: typing-extensions>=4.0.0 in /opt/conda/lib/python3.10/site-packages (from optree->keras==3.4.1) (4.12.2)\r\n",
      "Requirement already satisfied: pyparsing!=3.0.5,>=2.0.2 in /opt/conda/lib/python3.10/site-packages (from packaging->keras==3.4.1) (3.1.2)\r\n",
      "Requirement already satisfied: markdown-it-py>=2.2.0 in /opt/conda/lib/python3.10/site-packages (from rich->keras==3.4.1) (3.0.0)\r\n",
      "Requirement already satisfied: pygments<3.0.0,>=2.13.0 in /opt/conda/lib/python3.10/site-packages (from rich->keras==3.4.1) (2.18.0)\r\n",
      "Requirement already satisfied: mdurl~=0.1 in /opt/conda/lib/python3.10/site-packages (from markdown-it-py>=2.2.0->rich->keras==3.4.1) (0.1.2)\r\n",
      "Downloading keras-3.4.1-py3-none-any.whl (1.1 MB)\r\n",
      "\u001b[2K   \u001b[90m━━━━━━━━━━━━━━━━━━━━━━━━━━━━━━━━━━━━━━━━\u001b[0m \u001b[32m1.1/1.1 MB\u001b[0m \u001b[31m19.5 MB/s\u001b[0m eta \u001b[36m0:00:00\u001b[0m\r\n",
      "\u001b[?25hInstalling collected packages: keras\r\n",
      "  Attempting uninstall: keras\r\n",
      "    Found existing installation: keras 3.3.3\r\n",
      "    Uninstalling keras-3.3.3:\r\n",
      "      Successfully uninstalled keras-3.3.3\r\n",
      "Successfully installed keras-3.4.1\r\n",
      "2.16.1\n",
      "3.4.1\n"
     ]
    }
   ],
   "source": [
    "## importing libraries\n",
    "\n",
    "!pip install keras==3.4.1\n",
    "\n",
    "import tensorflow as tf\n",
    "import keras\n",
    "from tensorflow.keras import layers, models, optimizers, callbacks\n",
    "from tensorflow.keras.preprocessing.image import ImageDataGenerator\n",
    "from tensorflow.keras import mixed_precision\n",
    "\n",
    "# Import libraries\n",
    "\n",
    "import tensorflow as tf\n",
    "import keras\n",
    "from tensorflow.keras import layers, models, optimizers, callbacks\n",
    "from tensorflow.keras.preprocessing.image import ImageDataGenerator\n",
    "from tensorflow.keras import mixed_precision\n",
    "from tensorflow.keras.applications.efficientnet import preprocess_input\n",
    "from sklearn.metrics import confusion_matrix\n",
    "from sklearn.metrics import classification_report\n",
    "from sklearn.metrics import accuracy_score, f1_score, precision_score, recall_score\n",
    "\n",
    "import os\n",
    "import random\n",
    "import shutil\n",
    "import numpy as np\n",
    "import seaborn as sns\n",
    "import tensorflow as tf\n",
    "import matplotlib.pyplot as plt\n",
    "\n",
    "\n",
    "tfk = tf.keras\n",
    "tfkl = tf.keras.layers\n",
    "print(tf.__version__)\n",
    "print(tfk.__version__)\n",
    "\n",
    "\n",
    "# Set seed for reproducibility\n",
    "\n",
    "seed = 42\n",
    "\n",
    "random.seed(seed)\n",
    "os.environ['PYTHONHASHSEED'] = str(seed)\n",
    "np.random.seed(seed)\n",
    "tf.random.set_seed(seed)\n",
    "tf.compat.v1.set_random_seed(seed)"
   ]
  },
  {
   "cell_type": "code",
   "execution_count": 2,
   "id": "5bfe92c6",
   "metadata": {
    "execution": {
     "iopub.execute_input": "2024-11-24T20:39:48.520156Z",
     "iopub.status.busy": "2024-11-24T20:39:48.519661Z",
     "iopub.status.idle": "2024-11-24T21:24:46.142191Z",
     "shell.execute_reply": "2024-11-24T21:24:46.141140Z"
    },
    "papermill": {
     "duration": 2697.629275,
     "end_time": "2024-11-24T21:24:46.144940",
     "exception": false,
     "start_time": "2024-11-24T20:39:48.515665",
     "status": "completed"
    },
    "tags": []
   },
   "outputs": [],
   "source": [
    "# Load trained models\n",
    "\n",
    "model1  = tfk.models.load_model('/kaggle/input/myke0.93/keras/default/1/myke0.93.keras')\n",
    "model2  = tfk.models.load_model('/kaggle/input/0.95_toky/keras/default/1/0.95_toky.keras')\n",
    "model3 = tfk.models.load_model(\"/kaggle/input/0.94toky/keras/default/1/model_best_FT.keras\")\n",
    "model4 = tfk.models.load_model(\"/kaggle/input/0.94_large/keras/default/1/0.94_large.keras\")\n",
    "model5 = tfk.models.load_model(\"/kaggle/input/0.95toky_2/keras/default/1/0.95toky_2.keras\")\n",
    "model6 = tfk.models.load_model(\"/kaggle/input/myke_final_v2/keras/default/1/final_myke_FT_V2M.keras\")\n",
    "model7 = tfk.models.load_model(\"/kaggle/input/convnextlarge/keras/default/1/convnextlarge.keras\")\n"
   ]
  },
  {
   "cell_type": "code",
   "execution_count": 3,
   "id": "be7e4340",
   "metadata": {
    "execution": {
     "iopub.execute_input": "2024-11-24T21:24:46.153580Z",
     "iopub.status.busy": "2024-11-24T21:24:46.153291Z",
     "iopub.status.idle": "2024-11-24T21:24:46.158744Z",
     "shell.execute_reply": "2024-11-24T21:24:46.157969Z"
    },
    "papermill": {
     "duration": 0.01145,
     "end_time": "2024-11-24T21:24:46.160453",
     "exception": false,
     "start_time": "2024-11-24T21:24:46.149003",
     "status": "completed"
    },
    "tags": []
   },
   "outputs": [],
   "source": [
    "from tensorflow.keras.models import Model\n",
    "\n",
    "def change_model_name(model, name):\n",
    "    # Get the original model's configuration\n",
    "    config = model.get_config()\n",
    "    \n",
    "    # Modify the name in the configuration\n",
    "    config['name'] = name\n",
    "    \n",
    "    # Recreate the model with the modified configuration\n",
    "    new_model = Model.from_config(config)\n",
    "    \n",
    "    # Copy the weights from the original model to the new model\n",
    "    new_model.set_weights(model.get_weights())\n",
    "    return new_model\n"
   ]
  },
  {
   "cell_type": "code",
   "execution_count": 4,
   "id": "8f8bf1e8",
   "metadata": {
    "execution": {
     "iopub.execute_input": "2024-11-24T21:24:46.167710Z",
     "iopub.status.busy": "2024-11-24T21:24:46.167478Z",
     "iopub.status.idle": "2024-11-24T21:25:07.096901Z",
     "shell.execute_reply": "2024-11-24T21:25:07.096182Z"
    },
    "papermill": {
     "duration": 20.935133,
     "end_time": "2024-11-24T21:25:07.098764",
     "exception": false,
     "start_time": "2024-11-24T21:24:46.163631",
     "status": "completed"
    },
    "tags": []
   },
   "outputs": [],
   "source": [
    "# Change the name of the models to avoid conflicts\n",
    "\n",
    "model1 = change_model_name(model1, \"model1\")\n",
    "model2 = change_model_name(model2, \"model2\")\n",
    "model3 = change_model_name(model3, \"model3\")\n",
    "model4 = change_model_name(model4, \"model4\")\n",
    "model5 = change_model_name(model5, \"model5\")\n",
    "model6 = change_model_name(model6, \"model6\")\n",
    "model7 = change_model_name(model7, \"model7\")"
   ]
  },
  {
   "cell_type": "code",
   "execution_count": 5,
   "id": "524abb0b",
   "metadata": {
    "execution": {
     "iopub.execute_input": "2024-11-24T21:25:07.107967Z",
     "iopub.status.busy": "2024-11-24T21:25:07.107427Z",
     "iopub.status.idle": "2024-11-24T21:25:07.113416Z",
     "shell.execute_reply": "2024-11-24T21:25:07.112673Z"
    },
    "papermill": {
     "duration": 0.012783,
     "end_time": "2024-11-24T21:25:07.115009",
     "exception": false,
     "start_time": "2024-11-24T21:25:07.102226",
     "status": "completed"
    },
    "tags": []
   },
   "outputs": [
    {
     "data": {
      "text/plain": [
       "(<Functional name=model1, built=True>,\n",
       " <Functional name=model2, built=True>,\n",
       " <Functional name=model3, built=True>,\n",
       " <Functional name=model4, built=True>,\n",
       " <Functional name=model5, built=True>,\n",
       " <Functional name=model6, built=True>,\n",
       " <Functional name=model7, built=True>)"
      ]
     },
     "execution_count": 5,
     "metadata": {},
     "output_type": "execute_result"
    }
   ],
   "source": [
    "model1,model2,model3,model4,model5,model6,model7"
   ]
  },
  {
   "cell_type": "code",
   "execution_count": 6,
   "id": "bce58687",
   "metadata": {
    "execution": {
     "iopub.execute_input": "2024-11-24T21:25:07.122910Z",
     "iopub.status.busy": "2024-11-24T21:25:07.122315Z",
     "iopub.status.idle": "2024-11-24T21:25:07.127573Z",
     "shell.execute_reply": "2024-11-24T21:25:07.126948Z"
    },
    "papermill": {
     "duration": 0.010717,
     "end_time": "2024-11-24T21:25:07.129058",
     "exception": false,
     "start_time": "2024-11-24T21:25:07.118341",
     "status": "completed"
    },
    "tags": []
   },
   "outputs": [],
   "source": [
    "def ensembleModels(models, model_input):\n",
    "    yModels = [model(model_input) for model in models]\n",
    "    yModels_list = []\n",
    "    yModels_list.append(yModels[0][0])\n",
    "    yModels_list.append(yModels[1][0])\n",
    "    yModels_list.append(yModels[2][0])\n",
    "    yModels_list.append(yModels[3][0])\n",
    "    yModels_list.append(yModels[4][0])\n",
    "    yModels_list.append(yModels[5][0])\n",
    "    yModels_list.append(yModels[6][0])\n",
    "    yAvg=tfkl.average(yModels_list)                                             \n",
    "    modelEns = tfk.models.Model(inputs=model_input, outputs=yAvg, name='ensemble')\n",
    "\n",
    "    return modelEns"
   ]
  },
  {
   "cell_type": "code",
   "execution_count": 7,
   "id": "93d9a659",
   "metadata": {
    "execution": {
     "iopub.execute_input": "2024-11-24T21:25:07.136596Z",
     "iopub.status.busy": "2024-11-24T21:25:07.136356Z",
     "iopub.status.idle": "2024-11-24T21:25:07.139789Z",
     "shell.execute_reply": "2024-11-24T21:25:07.139170Z"
    },
    "papermill": {
     "duration": 0.008951,
     "end_time": "2024-11-24T21:25:07.141258",
     "exception": false,
     "start_time": "2024-11-24T21:25:07.132307",
     "status": "completed"
    },
    "tags": []
   },
   "outputs": [],
   "source": [
    "models = [model1,model2,model3,model4,model5,model6,model7]"
   ]
  },
  {
   "cell_type": "code",
   "execution_count": 8,
   "id": "c967c0f5",
   "metadata": {
    "execution": {
     "iopub.execute_input": "2024-11-24T21:25:07.148600Z",
     "iopub.status.busy": "2024-11-24T21:25:07.148368Z",
     "iopub.status.idle": "2024-11-24T21:25:07.452830Z",
     "shell.execute_reply": "2024-11-24T21:25:07.451960Z"
    },
    "papermill": {
     "duration": 0.310214,
     "end_time": "2024-11-24T21:25:07.454727",
     "exception": false,
     "start_time": "2024-11-24T21:25:07.144513",
     "status": "completed"
    },
    "tags": []
   },
   "outputs": [
    {
     "data": {
      "image/png": "[encoded data removed]",
      "text/plain": [
       "<IPython.core.display.Image object>"
      ]
     },
     "execution_count": 8,
     "metadata": {},
     "output_type": "execute_result"
    }
   ],
   "source": [
    "# Create the ensemble model made of 6 EfficientNet models of different sizes \n",
    "# and one ConvNextLarge model, all pre-trained on ImageNet with different settings \n",
    "\n",
    "model_input = tfkl.Input(shape=models[0].input_shape[1:]) # c*h*w\n",
    "modelEns = ensembleModels(models, model_input)\n",
    "     \n",
    "\n",
    "tfk.utils.plot_model(modelEns)"
   ]
  },
  {
   "cell_type": "code",
   "execution_count": 9,
   "id": "bc07b6ff",
   "metadata": {
    "execution": {
     "iopub.execute_input": "2024-11-24T21:25:07.464394Z",
     "iopub.status.busy": "2024-11-24T21:25:07.464119Z",
     "iopub.status.idle": "2024-11-24T21:25:07.609801Z",
     "shell.execute_reply": "2024-11-24T21:25:07.608979Z"
    },
    "papermill": {
     "duration": 0.152272,
     "end_time": "2024-11-24T21:25:07.611483",
     "exception": false,
     "start_time": "2024-11-24T21:25:07.459211",
     "status": "completed"
    },
    "tags": []
   },
   "outputs": [
    {
     "data": {
      "text/html": [
       "<pre style=\"white-space:pre;overflow-x:auto;line-height:normal;font-family:Menlo,'DejaVu Sans Mono',consolas,'Courier New',monospace\"><span style=\"font-weight: bold\">Model: \"ensemble\"</span>\n",
       "</pre>\n"
      ],
      "text/plain": [
       "\u001b[1mModel: \"ensemble\"\u001b[0m\n"
      ]
     },
     "metadata": {},
     "output_type": "display_data"
    },
    {
     "data": {
      "text/html": [
       "<pre style=\"white-space:pre;overflow-x:auto;line-height:normal;font-family:Menlo,'DejaVu Sans Mono',consolas,'Courier New',monospace\">┏━━━━━━━━━━━━━━━━━━━━━┳━━━━━━━━━━━━━━━━━━━┳━━━━━━━━━━━━┳━━━━━━━━━━━━━━━━━━━┓\n",
       "┃<span style=\"font-weight: bold\"> Layer (type)        </span>┃<span style=\"font-weight: bold\"> Output Shape      </span>┃<span style=\"font-weight: bold\">    Param # </span>┃<span style=\"font-weight: bold\"> Connected to      </span>┃\n",
       "┡━━━━━━━━━━━━━━━━━━━━━╇━━━━━━━━━━━━━━━━━━━╇━━━━━━━━━━━━╇━━━━━━━━━━━━━━━━━━━┩\n",
       "│ input_layer         │ (<span style=\"color: #00d7ff; text-decoration-color: #00d7ff\">None</span>, <span style=\"color: #00af00; text-decoration-color: #00af00\">96</span>, <span style=\"color: #00af00; text-decoration-color: #00af00\">96</span>, <span style=\"color: #00af00; text-decoration-color: #00af00\">3</span>) │          <span style=\"color: #00af00; text-decoration-color: #00af00\">0</span> │ -                 │\n",
       "│ (<span style=\"color: #0087ff; text-decoration-color: #0087ff\">InputLayer</span>)        │                   │            │                   │\n",
       "├─────────────────────┼───────────────────┼────────────┼───────────────────┤\n",
       "│ model1 (<span style=\"color: #0087ff; text-decoration-color: #0087ff\">Functional</span>) │ (<span style=\"color: #00d7ff; text-decoration-color: #00d7ff\">None</span>, <span style=\"color: #00af00; text-decoration-color: #00af00\">8</span>)         │ <span style=\"color: #00af00; text-decoration-color: #00af00\">20,341,608</span> │ input_layer[<span style=\"color: #00af00; text-decoration-color: #00af00\">0</span>][<span style=\"color: #00af00; text-decoration-color: #00af00\">0</span>] │\n",
       "├─────────────────────┼───────────────────┼────────────┼───────────────────┤\n",
       "│ model2 (<span style=\"color: #0087ff; text-decoration-color: #0087ff\">Functional</span>) │ (<span style=\"color: #00d7ff; text-decoration-color: #00d7ff\">None</span>, <span style=\"color: #00af00; text-decoration-color: #00af00\">8</span>)         │ <span style=\"color: #00af00; text-decoration-color: #00af00\">53,480,380</span> │ input_layer[<span style=\"color: #00af00; text-decoration-color: #00af00\">0</span>][<span style=\"color: #00af00; text-decoration-color: #00af00\">0</span>] │\n",
       "├─────────────────────┼───────────────────┼────────────┼───────────────────┤\n",
       "│ model3 (<span style=\"color: #0087ff; text-decoration-color: #0087ff\">Functional</span>) │ (<span style=\"color: #00d7ff; text-decoration-color: #00d7ff\">None</span>, <span style=\"color: #00af00; text-decoration-color: #00af00\">8</span>)         │ <span style=\"color: #00af00; text-decoration-color: #00af00\">20,661,352</span> │ input_layer[<span style=\"color: #00af00; text-decoration-color: #00af00\">0</span>][<span style=\"color: #00af00; text-decoration-color: #00af00\">0</span>] │\n",
       "├─────────────────────┼───────────────────┼────────────┼───────────────────┤\n",
       "│ model4 (<span style=\"color: #0087ff; text-decoration-color: #0087ff\">Functional</span>) │ (<span style=\"color: #00d7ff; text-decoration-color: #00d7ff\">None</span>, <span style=\"color: #00af00; text-decoration-color: #00af00\">8</span>)         │ <span style=\"color: #00af00; text-decoration-color: #00af00\">118,076,8…</span> │ input_layer[<span style=\"color: #00af00; text-decoration-color: #00af00\">0</span>][<span style=\"color: #00af00; text-decoration-color: #00af00\">0</span>] │\n",
       "├─────────────────────┼───────────────────┼────────────┼───────────────────┤\n",
       "│ model5 (<span style=\"color: #0087ff; text-decoration-color: #0087ff\">Functional</span>) │ (<span style=\"color: #00d7ff; text-decoration-color: #00d7ff\">None</span>, <span style=\"color: #00af00; text-decoration-color: #00af00\">8</span>)         │ <span style=\"color: #00af00; text-decoration-color: #00af00\">53,480,380</span> │ input_layer[<span style=\"color: #00af00; text-decoration-color: #00af00\">0</span>][<span style=\"color: #00af00; text-decoration-color: #00af00\">0</span>] │\n",
       "├─────────────────────┼───────────────────┼────────────┼───────────────────┤\n",
       "│ model6 (<span style=\"color: #0087ff; text-decoration-color: #0087ff\">Functional</span>) │ (<span style=\"color: #00d7ff; text-decoration-color: #00d7ff\">None</span>, <span style=\"color: #00af00; text-decoration-color: #00af00\">8</span>)         │ <span style=\"color: #00af00; text-decoration-color: #00af00\">53,160,636</span> │ input_layer[<span style=\"color: #00af00; text-decoration-color: #00af00\">0</span>][<span style=\"color: #00af00; text-decoration-color: #00af00\">0</span>] │\n",
       "├─────────────────────┼───────────────────┼────────────┼───────────────────┤\n",
       "│ model7 (<span style=\"color: #0087ff; text-decoration-color: #0087ff\">Functional</span>) │ (<span style=\"color: #00d7ff; text-decoration-color: #00d7ff\">None</span>, <span style=\"color: #00af00; text-decoration-color: #00af00\">8</span>)         │ <span style=\"color: #00af00; text-decoration-color: #00af00\">196,625,8…</span> │ input_layer[<span style=\"color: #00af00; text-decoration-color: #00af00\">0</span>][<span style=\"color: #00af00; text-decoration-color: #00af00\">0</span>] │\n",
       "├─────────────────────┼───────────────────┼────────────┼───────────────────┤\n",
       "│ average (<span style=\"color: #0087ff; text-decoration-color: #0087ff\">Average</span>)   │ (<span style=\"color: #00d7ff; text-decoration-color: #00d7ff\">None</span>, <span style=\"color: #00af00; text-decoration-color: #00af00\">8</span>)         │          <span style=\"color: #00af00; text-decoration-color: #00af00\">0</span> │ model1[<span style=\"color: #00af00; text-decoration-color: #00af00\">0</span>][<span style=\"color: #00af00; text-decoration-color: #00af00\">0</span>],     │\n",
       "│                     │                   │            │ model2[<span style=\"color: #00af00; text-decoration-color: #00af00\">0</span>][<span style=\"color: #00af00; text-decoration-color: #00af00\">0</span>],     │\n",
       "│                     │                   │            │ model3[<span style=\"color: #00af00; text-decoration-color: #00af00\">0</span>][<span style=\"color: #00af00; text-decoration-color: #00af00\">0</span>],     │\n",
       "│                     │                   │            │ model4[<span style=\"color: #00af00; text-decoration-color: #00af00\">0</span>][<span style=\"color: #00af00; text-decoration-color: #00af00\">0</span>],     │\n",
       "│                     │                   │            │ model5[<span style=\"color: #00af00; text-decoration-color: #00af00\">0</span>][<span style=\"color: #00af00; text-decoration-color: #00af00\">0</span>],     │\n",
       "│                     │                   │            │ model6[<span style=\"color: #00af00; text-decoration-color: #00af00\">0</span>][<span style=\"color: #00af00; text-decoration-color: #00af00\">0</span>],     │\n",
       "│                     │                   │            │ model7[<span style=\"color: #00af00; text-decoration-color: #00af00\">0</span>][<span style=\"color: #00af00; text-decoration-color: #00af00\">0</span>]      │\n",
       "└─────────────────────┴───────────────────┴────────────┴───────────────────┘\n",
       "</pre>\n"
      ],
      "text/plain": [
       "┏━━━━━━━━━━━━━━━━━━━━━┳━━━━━━━━━━━━━━━━━━━┳━━━━━━━━━━━━┳━━━━━━━━━━━━━━━━━━━┓\n",
       "┃\u001b[1m \u001b[0m\u001b[1mLayer (type)       \u001b[0m\u001b[1m \u001b[0m┃\u001b[1m \u001b[0m\u001b[1mOutput Shape     \u001b[0m\u001b[1m \u001b[0m┃\u001b[1m \u001b[0m\u001b[1m   Param #\u001b[0m\u001b[1m \u001b[0m┃\u001b[1m \u001b[0m\u001b[1mConnected to     \u001b[0m\u001b[1m \u001b[0m┃\n",
       "┡━━━━━━━━━━━━━━━━━━━━━╇━━━━━━━━━━━━━━━━━━━╇━━━━━━━━━━━━╇━━━━━━━━━━━━━━━━━━━┩\n",
       "│ input_layer         │ (\u001b[38;5;45mNone\u001b[0m, \u001b[38;5;34m96\u001b[0m, \u001b[38;5;34m96\u001b[0m, \u001b[38;5;34m3\u001b[0m) │          \u001b[38;5;34m0\u001b[0m │ -                 │\n",
       "│ (\u001b[38;5;33mInputLayer\u001b[0m)        │                   │            │                   │\n",
       "├─────────────────────┼───────────────────┼────────────┼───────────────────┤\n",
       "│ model1 (\u001b[38;5;33mFunctional\u001b[0m) │ (\u001b[38;5;45mNone\u001b[0m, \u001b[38;5;34m8\u001b[0m)         │ \u001b[38;5;34m20,341,608\u001b[0m │ input_layer[\u001b[38;5;34m0\u001b[0m][\u001b[38;5;34m0\u001b[0m] │\n",
       "├─────────────────────┼───────────────────┼────────────┼───────────────────┤\n",
       "│ model2 (\u001b[38;5;33mFunctional\u001b[0m) │ (\u001b[38;5;45mNone\u001b[0m, \u001b[38;5;34m8\u001b[0m)         │ \u001b[38;5;34m53,480,380\u001b[0m │ input_layer[\u001b[38;5;34m0\u001b[0m][\u001b[38;5;34m0\u001b[0m] │\n",
       "├─────────────────────┼───────────────────┼────────────┼───────────────────┤\n",
       "│ model3 (\u001b[38;5;33mFunctional\u001b[0m) │ (\u001b[38;5;45mNone\u001b[0m, \u001b[38;5;34m8\u001b[0m)         │ \u001b[38;5;34m20,661,352\u001b[0m │ input_layer[\u001b[38;5;34m0\u001b[0m][\u001b[38;5;34m0\u001b[0m] │\n",
       "├─────────────────────┼───────────────────┼────────────┼───────────────────┤\n",
       "│ model4 (\u001b[38;5;33mFunctional\u001b[0m) │ (\u001b[38;5;45mNone\u001b[0m, \u001b[38;5;34m8\u001b[0m)         │ \u001b[38;5;34m118,076,8…\u001b[0m │ input_layer[\u001b[38;5;34m0\u001b[0m][\u001b[38;5;34m0\u001b[0m] │\n",
       "├─────────────────────┼───────────────────┼────────────┼───────────────────┤\n",
       "│ model5 (\u001b[38;5;33mFunctional\u001b[0m) │ (\u001b[38;5;45mNone\u001b[0m, \u001b[38;5;34m8\u001b[0m)         │ \u001b[38;5;34m53,480,380\u001b[0m │ input_layer[\u001b[38;5;34m0\u001b[0m][\u001b[38;5;34m0\u001b[0m] │\n",
       "├─────────────────────┼───────────────────┼────────────┼───────────────────┤\n",
       "│ model6 (\u001b[38;5;33mFunctional\u001b[0m) │ (\u001b[38;5;45mNone\u001b[0m, \u001b[38;5;34m8\u001b[0m)         │ \u001b[38;5;34m53,160,636\u001b[0m │ input_layer[\u001b[38;5;34m0\u001b[0m][\u001b[38;5;34m0\u001b[0m] │\n",
       "├─────────────────────┼───────────────────┼────────────┼───────────────────┤\n",
       "│ model7 (\u001b[38;5;33mFunctional\u001b[0m) │ (\u001b[38;5;45mNone\u001b[0m, \u001b[38;5;34m8\u001b[0m)         │ \u001b[38;5;34m196,625,8…\u001b[0m │ input_layer[\u001b[38;5;34m0\u001b[0m][\u001b[38;5;34m0\u001b[0m] │\n",
       "├─────────────────────┼───────────────────┼────────────┼───────────────────┤\n",
       "│ average (\u001b[38;5;33mAverage\u001b[0m)   │ (\u001b[38;5;45mNone\u001b[0m, \u001b[38;5;34m8\u001b[0m)         │          \u001b[38;5;34m0\u001b[0m │ model1[\u001b[38;5;34m0\u001b[0m][\u001b[38;5;34m0\u001b[0m],     │\n",
       "│                     │                   │            │ model2[\u001b[38;5;34m0\u001b[0m][\u001b[38;5;34m0\u001b[0m],     │\n",
       "│                     │                   │            │ model3[\u001b[38;5;34m0\u001b[0m][\u001b[38;5;34m0\u001b[0m],     │\n",
       "│                     │                   │            │ model4[\u001b[38;5;34m0\u001b[0m][\u001b[38;5;34m0\u001b[0m],     │\n",
       "│                     │                   │            │ model5[\u001b[38;5;34m0\u001b[0m][\u001b[38;5;34m0\u001b[0m],     │\n",
       "│                     │                   │            │ model6[\u001b[38;5;34m0\u001b[0m][\u001b[38;5;34m0\u001b[0m],     │\n",
       "│                     │                   │            │ model7[\u001b[38;5;34m0\u001b[0m][\u001b[38;5;34m0\u001b[0m]      │\n",
       "└─────────────────────┴───────────────────┴────────────┴───────────────────┘\n"
      ]
     },
     "metadata": {},
     "output_type": "display_data"
    },
    {
     "data": {
      "text/html": [
       "<pre style=\"white-space:pre;overflow-x:auto;line-height:normal;font-family:Menlo,'DejaVu Sans Mono',consolas,'Courier New',monospace\"><span style=\"font-weight: bold\"> Total params: </span><span style=\"color: #00af00; text-decoration-color: #00af00\">515,827,060</span> (1.92 GB)\n",
       "</pre>\n"
      ],
      "text/plain": [
       "\u001b[1m Total params: \u001b[0m\u001b[38;5;34m515,827,060\u001b[0m (1.92 GB)\n"
      ]
     },
     "metadata": {},
     "output_type": "display_data"
    },
    {
     "data": {
      "text/html": [
       "<pre style=\"white-space:pre;overflow-x:auto;line-height:normal;font-family:Menlo,'DejaVu Sans Mono',consolas,'Courier New',monospace\"><span style=\"font-weight: bold\"> Trainable params: </span><span style=\"color: #00af00; text-decoration-color: #00af00\">451,039,040</span> (1.68 GB)\n",
       "</pre>\n"
      ],
      "text/plain": [
       "\u001b[1m Trainable params: \u001b[0m\u001b[38;5;34m451,039,040\u001b[0m (1.68 GB)\n"
      ]
     },
     "metadata": {},
     "output_type": "display_data"
    },
    {
     "data": {
      "text/html": [
       "<pre style=\"white-space:pre;overflow-x:auto;line-height:normal;font-family:Menlo,'DejaVu Sans Mono',consolas,'Courier New',monospace\"><span style=\"font-weight: bold\"> Non-trainable params: </span><span style=\"color: #00af00; text-decoration-color: #00af00\">64,788,020</span> (247.15 MB)\n",
       "</pre>\n"
      ],
      "text/plain": [
       "\u001b[1m Non-trainable params: \u001b[0m\u001b[38;5;34m64,788,020\u001b[0m (247.15 MB)\n"
      ]
     },
     "metadata": {},
     "output_type": "display_data"
    }
   ],
   "source": [
    "modelEns.summary()"
   ]
  },
  {
   "cell_type": "code",
   "execution_count": 10,
   "id": "f8c78708",
   "metadata": {
    "execution": {
     "iopub.execute_input": "2024-11-24T21:25:07.621999Z",
     "iopub.status.busy": "2024-11-24T21:25:07.621709Z",
     "iopub.status.idle": "2024-11-24T21:25:23.227509Z",
     "shell.execute_reply": "2024-11-24T21:25:23.226481Z"
    },
    "papermill": {
     "duration": 15.613262,
     "end_time": "2024-11-24T21:25:23.229596",
     "exception": false,
     "start_time": "2024-11-24T21:25:07.616334",
     "status": "completed"
    },
    "tags": []
   },
   "outputs": [],
   "source": [
    "# Save model\n",
    "modelEns.save(\"EnsambleEfficientNet.keras\")"
   ]
  },
  {
   "cell_type": "code",
   "execution_count": null,
   "id": "7394b780",
   "metadata": {
    "execution": {
     "iopub.execute_input": "2024-11-24T21:25:23.247722Z",
     "iopub.status.busy": "2024-11-24T21:25:23.247336Z",
     "iopub.status.idle": "2024-11-24T21:25:29.142262Z",
     "shell.execute_reply": "2024-11-24T21:25:29.141526Z"
    },
    "papermill": {
     "duration": 5.903015,
     "end_time": "2024-11-24T21:25:29.144233",
     "exception": false,
     "start_time": "2024-11-24T21:25:23.241218",
     "status": "completed"
    },
    "tags": []
   },
   "outputs": [],
   "source": [
    "# Load data to test the model\n",
    "\n",
    "data_path = \"/kaggle/input/clean-data/cleaned_training_set.npz\"\n",
    "data = np.load(data_path)\n",
    "\n",
    "# Assume the file contains keys 'images' and 'labels'\n",
    "images = data['images']\n",
    "labels = data['labels']\n",
    "\n",
    "\n",
    "# Split dataset into training and validation sets\n",
    "from sklearn.model_selection import train_test_split\n",
    "X_train, X_val, y_train, y_val = train_test_split(images, labels, test_size=0.1, random_state=33)\n",
    "\n",
    "y_train = tfk.utils.to_categorical(y_train, num_classes=8)\n",
    "y_val = tfk.utils.to_categorical(y_val, num_classes=8)"
   ]
  },
  {
   "cell_type": "code",
   "execution_count": null,
   "id": "055c2d8e",
   "metadata": {
    "execution": {
     "iopub.execute_input": "2024-11-24T21:25:29.157282Z",
     "iopub.status.busy": "2024-11-24T21:25:29.156960Z",
     "iopub.status.idle": "2024-11-24T21:25:29.163599Z",
     "shell.execute_reply": "2024-11-24T21:25:29.162778Z"
    },
    "papermill": {
     "duration": 0.014549,
     "end_time": "2024-11-24T21:25:29.165361",
     "exception": false,
     "start_time": "2024-11-24T21:25:29.150812",
     "status": "completed"
    },
    "tags": []
   },
   "outputs": [
    {
     "name": "stdout",
     "output_type": "stream",
     "text": [
      "Writing model.py\n"
     ]
    }
   ],
   "source": [
    "# Python file script to submit the model on Codabench platform for evaluation\n",
    "\n",
    "%%writefile model.py\n",
    "import numpy as np\n",
    "\n",
    "import tensorflow as tf\n",
    "import keras as tfk\n",
    "from keras.saving import register_keras_serializable\n",
    "from keras import layers as tfkl\n",
    "\n",
    "import numpy as np\n",
    "\n",
    "\n",
    "class Model:\n",
    "    def __init__(self):\n",
    "        \"\"\"\n",
    "        Initialize the internal state of the model. Note that the __init__\n",
    "        method cannot accept any arguments.\n",
    "        \"\"\"\n",
    "        self.neural_network = tfk_models.load_model('EnsambleEfficientNet.keras')\n",
    "\n",
    "    def tta_prediction(self, image: np.ndarray) -> np.ndarray:\n",
    "        \"\"\"\n",
    "        Perform Test-Time Augmentation (TTA) and predict using the neural network.\n",
    "\n",
    "        Args:\n",
    "            image (np.ndarray): A single image of shape (96, 96, 3).\n",
    "\n",
    "        Returns:\n",
    "            np.ndarray: The predicted label for the image.\n",
    "        \"\"\"\n",
    "        def add_noise(img):\n",
    "            noise = np.random.normal(0, 0.1 * 255, img.shape)  # Gaussian noise\n",
    "            return np.clip(img + noise, 0, 255).astype(np.uint8)\n",
    "\n",
    "        def rotate(img, k):\n",
    "            return np.rot90(img, k=k)  # Rotate by 90 degrees k times\n",
    "\n",
    "        def channel_shuffle(img):\n",
    "            return img[..., np.random.permutation(3)]  # Shuffle color channels\n",
    "\n",
    "        images = [\n",
    "            image,  # Original\n",
    "            np.flip(image, axis=1),  # Horizontal flip\n",
    "            np.flip(image, axis=0),  # Vertical flip\n",
    "            rotate(image, 1),  # Rotate 90 degrees\n",
    "            rotate(image, 2),  # Rotate 180 degrees\n",
    "            rotate(image, 3),  # Rotate 270 degrees\n",
    "            np.roll(image, -9, axis=0),  # Roll up\n",
    "            np.roll(image, -9, axis=1),  # Roll left\n",
    "            np.roll(image, 9, axis=0),  # Roll down\n",
    "            np.roll(image, 9, axis=1),  # Roll right\n",
    "            add_noise(image),  # Gaussian noise\n",
    "            channel_shuffle(image),  # Channel shuffle\n",
    "        ]\n",
    "\n",
    "        # Preprocess and predict for each augmented version\n",
    "        preds = [\n",
    "            self.neural_network.predict(\n",
    "                np.expand_dims(efficientnet.preprocess_input(img), axis=0), verbose=0\n",
    "            )\n",
    "            for img in images\n",
    "        ]\n",
    "\n",
    "        # Aggregate predictions and find the class with the highest sum\n",
    "        sums = tf.reduce_sum(tf.stack(preds), axis=0)\n",
    "        tta_pred = tf.squeeze(tf.argmax(sums, axis=-1)).numpy()\n",
    "        return tta_pred\n",
    "\n",
    "    def predict(self, X):\n",
    "        \"\"\"\n",
    "        Predict the labels corresponding to the input X.\n",
    "\n",
    "        Args:\n",
    "            X (np.ndarray): Input data of shape (n_samples, 96, 96, 3).\n",
    "\n",
    "        Returns:\n",
    "            np.ndarray: Predicted labels of shape (n_samples,).\n",
    "        \"\"\"\n",
    "        predictions = [self.tta_prediction(image) for image in X]\n",
    "        return np.array(predictions)\n"
   ]
  },
  {
   "cell_type": "code",
   "execution_count": null,
   "id": "52cc4b90",
   "metadata": {
    "execution": {
     "iopub.execute_input": "2024-11-24T21:25:29.176168Z",
     "iopub.status.busy": "2024-11-24T21:25:29.175898Z",
     "iopub.status.idle": "2024-11-24T21:27:14.309860Z",
     "shell.execute_reply": "2024-11-24T21:27:14.308689Z"
    },
    "papermill": {
     "duration": 105.141597,
     "end_time": "2024-11-24T21:27:14.311873",
     "exception": false,
     "start_time": "2024-11-24T21:25:29.170276",
     "status": "completed"
    },
    "tags": []
   },
   "outputs": [
    {
     "name": "stderr",
     "output_type": "stream",
     "text": [
      "/opt/conda/lib/python3.10/pty.py:89: RuntimeWarning: os.fork() was called. os.fork() is incompatible with multithreaded code, and JAX is multithreaded, so this will likely lead to a deadlock.\n",
      "  pid, fd = os.forkpty()\n"
     ]
    },
    {
     "name": "stdout",
     "output_type": "stream",
     "text": [
      "  adding: model.py (deflated 62%)\r\n",
      "  adding: EnsambleEfficientNet.keras (deflated 8%)\r\n"
     ]
    },
    {
     "data": {
      "text/html": [
       "<a href='submission_241124_212529.zip' target='_blank'>submission_241124_212529.zip</a><br>"
      ],
      "text/plain": [
       "/kaggle/working/submission_241124_212529.zip"
      ]
     },
     "execution_count": 13,
     "metadata": {},
     "output_type": "execute_result"
    }
   ],
   "source": [
    "# Zip the model and the Python script for submission\n",
    "\n",
    "from datetime import datetime\n",
    "filename = f'submission_{datetime.now().strftime(\"%y%m%d_%H%M%S\")}.zip'\n",
    "\n",
    "# Add files to the zip command if needed\n",
    "!zip {filename} model.py EnsambleEfficientNet.keras\n",
    "\n",
    "from IPython.display import FileLink\n",
    "FileLink(filename)"
   ]
  },
  {
   "cell_type": "code",
   "execution_count": null,
   "id": "4821b039",
   "metadata": {
    "execution": {
     "iopub.execute_input": "2024-11-24T21:27:14.324010Z",
     "iopub.status.busy": "2024-11-24T21:27:14.323671Z",
     "iopub.status.idle": "2024-11-24T21:31:37.889566Z",
     "shell.execute_reply": "2024-11-24T21:31:37.888665Z"
    },
    "papermill": {
     "duration": 263.574093,
     "end_time": "2024-11-24T21:31:37.891351",
     "exception": false,
     "start_time": "2024-11-24T21:27:14.317258",
     "status": "completed"
    },
    "tags": []
   },
   "outputs": [
    {
     "name": "stdout",
     "output_type": "stream",
     "text": [
      "TRAIN:\n"
     ]
    },
    {
     "name": "stderr",
     "output_type": "stream",
     "text": [
      "WARNING: All log messages before absl::InitializeLog() is called are written to STDERR\n",
      "I0000 00:00:1732483674.078670      71 service.cc:145] XLA service 0x7d0be8002d20 initialized for platform CUDA (this does not guarantee that XLA will be used). Devices:\n",
      "I0000 00:00:1732483674.078737      71 service.cc:153]   StreamExecutor device (0): Tesla P100-PCIE-16GB, Compute Capability 6.0\n",
      "I0000 00:00:1732483735.073519      71 device_compiler.h:188] Compiled cluster using XLA!  This line is logged at most once for the lifetime of the process.\n"
     ]
    },
    {
     "name": "stdout",
     "output_type": "stream",
     "text": [
      "\u001b[1m38/38\u001b[0m \u001b[32m━━━━━━━━━━━━━━━━━━━━\u001b[0m\u001b[37m\u001b[0m \u001b[1m229s\u001b[0m 3s/step\n",
      "Accuracy score over the train set: 0.9908\n",
      "Precision score over the train set: 0.9908\n",
      "Recall score over the train set: 0.9908\n",
      "F1 score over the train set: 0.9908\n"
     ]
    },
    {
     "data": {
      "image/png": "[encoded data removed]",
      "text/plain": [
       "<Figure size 800x600 with 2 Axes>"
      ]
     },
     "metadata": {},
     "output_type": "display_data"
    },
    {
     "name": "stdout",
     "output_type": "stream",
     "text": [
      "VALIDATION:\n",
      "Accuracy score over the validation set: 0.9908\n",
      "Precision score over the validation set: 0.9908\n",
      "Recall score over the validation set: 0.9908\n",
      "F1 score over the validation set: 0.9908\n"
     ]
    },
    {
     "data": {
      "image/png": "[encoded data removed]",
      "text/plain": [
       "<Figure size 800x600 with 2 Axes>"
      ]
     },
     "metadata": {},
     "output_type": "display_data"
    }
   ],
   "source": [
    "# Confusion matrix and metrics for the ensemble model\n",
    "\n",
    "ft_model = modelEns\n",
    "\n",
    "import pandas as pd\n",
    "\n",
    "import seaborn as sns\n",
    "\n",
    "import matplotlib.pyplot as plt\n",
    "\n",
    "from sklearn.datasets import load_iris\n",
    "\n",
    "from sklearn.metrics import accuracy_score, precision_score, recall_score, f1_score, confusion_matrix\n",
    "\n",
    "from sklearn.model_selection import train_test_split\n",
    "\n",
    "\n",
    "print(\"TRAIN:\")\n",
    "# Predict class probabilities and get predicted classes\n",
    "train_predictions = ft_model.predict(X_train)\n",
    "train_predictions = np.argmax(train_predictions, axis=-1)\n",
    "\n",
    "# Extract ground truth classes\n",
    "train_gt = np.argmax(y_train, axis=-1)\n",
    "\n",
    "# Calculate and display training set accuracy\n",
    "train_accuracy = accuracy_score(train_gt, train_predictions)\n",
    "print(f'Accuracy score over the train set: {round(train_accuracy, 4)}')\n",
    "\n",
    "# Calculate and display training set precision\n",
    "train_precision = precision_score(train_gt, train_predictions, average='weighted')\n",
    "print(f'Precision score over the train set: {round(train_precision, 4)}')\n",
    "\n",
    "# Calculate and display training set recall\n",
    "train_recall = recall_score(train_gt, train_predictions, average='weighted')\n",
    "print(f'Recall score over the train set: {round(train_recall, 4)}')\n",
    "\n",
    "# Calculate and display training set F1 score\n",
    "train_f1 = f1_score(train_gt, train_predictions, average='weighted')\n",
    "print(f'F1 score over the train set: {round(train_f1, 4)}')\n",
    "\n",
    "# Compute the confusion matrix\n",
    "cm = confusion_matrix(train_gt, train_predictions)\n",
    "\n",
    "# Create labels combining confusion matrix values\n",
    "labels = np.array([f\"{num}\" for num in cm.flatten()]).reshape(cm.shape)\n",
    "\n",
    "# Plot the confusion matrix with class labels\n",
    "plt.figure(figsize=(8, 6))\n",
    "sns.heatmap(cm, annot=labels, fmt='',   cmap='Blues')\n",
    "plt.xlabel('True labels')\n",
    "plt.ylabel('Predicted labels')\n",
    "plt.show()\n",
    "\n",
    "print(\"VALIDATION:\")\n",
    "# Predict class probabilities and get predicted classes\n",
    "val_predictions = ft_model.predict(X_val, verbose=0)\n",
    "val_predictions = np.argmax(val_predictions, axis=-1)\n",
    "\n",
    "# Extract ground truth classes\n",
    "val_gt = np.argmax(y_val, axis=-1)\n",
    "\n",
    "# Calculate and display validation set accuracy\n",
    "val_accuracy = accuracy_score(val_gt, val_predictions)\n",
    "print(f'Accuracy score over the validation set: {round(val_accuracy, 4)}')\n",
    "\n",
    "# Calculate and display validation set precision\n",
    "val_precision = precision_score(val_gt, val_predictions, average='weighted')\n",
    "print(f'Precision score over the validation set: {round(val_precision, 4)}')\n",
    "\n",
    "# Calculate and display validation set recall\n",
    "val_recall = recall_score(val_gt, val_predictions, average='weighted')\n",
    "print(f'Recall score over the validation set: {round(val_recall, 4)}')\n",
    "\n",
    "# Calculate and display validation set F1 score\n",
    "val_f1 = f1_score(val_gt, val_predictions, average='weighted')\n",
    "print(f'F1 score over the validation set: {round(val_f1, 4)}')\n",
    "\n",
    "# Compute the confusion matrix\n",
    "cm = confusion_matrix(val_gt, val_predictions)\n",
    "\n",
    "# Create labels combining confusion matrix values\n",
    "labels = np.array([f\"{num}\" for num in cm.flatten()]).reshape(cm.shape)\n",
    "\n",
    "# Plot the confusion matrix with class labels\n",
    "plt.figure(figsize=(8, 6))\n",
    "sns.heatmap(cm, annot=labels, fmt='',   cmap='Blues')\n",
    "plt.xlabel('True labels')\n",
    "plt.ylabel('Predicted labels')\n",
    "plt.show()"
   ]
  }
 ],
 "metadata": {
  "kaggle": {
   "accelerator": "gpu",
   "dataSources": [
    {
     "datasetId": 6152506,
     "sourceId": 9996270,
     "sourceType": "datasetVersion"
    },
    {
     "modelId": 171121,
     "modelInstanceId": 148593,
     "sourceId": 174527,
     "sourceType": "modelInstanceVersion"
    },
    {
     "modelId": 171126,
     "modelInstanceId": 148598,
     "sourceId": 174535,
     "sourceType": "modelInstanceVersion"
    },
    {
     "modelId": 171130,
     "modelInstanceId": 148601,
     "sourceId": 174539,
     "sourceType": "modelInstanceVersion"
    },
    {
     "isSourceIdPinned": true,
     "modelId": 171627,
     "modelInstanceId": 149137,
     "sourceId": 175163,
     "sourceType": "modelInstanceVersion"
    },
    {
     "isSourceIdPinned": true,
     "modelId": 171635,
     "modelInstanceId": 149145,
     "sourceId": 175173,
     "sourceType": "modelInstanceVersion"
    },
    {
     "modelId": 173251,
     "modelInstanceId": 150777,
     "sourceId": 177020,
     "sourceType": "modelInstanceVersion"
    },
    {
     "modelId": 173596,
     "modelInstanceId": 151120,
     "sourceId": 177396,
     "sourceType": "modelInstanceVersion"
    }
   ],
   "dockerImageVersionId": 30787,
   "isGpuEnabled": true,
   "isInternetEnabled": true,
   "language": "python",
   "sourceType": "notebook"
  },
  "kernelspec": {
   "display_name": "Python 3",
   "language": "python",
   "name": "python3"
  },
  "language_info": {
   "codemirror_mode": {
    "name": "ipython",
    "version": 3
   },
   "file_extension": ".py",
   "mimetype": "text/x-python",
   "name": "python",
   "nbconvert_exporter": "python",
   "pygments_lexer": "ipython3",
   "version": "3.12.3"
  },
  "papermill": {
   "default_parameters": {},
   "duration": 3138.880881,
   "end_time": "2024-11-24T21:31:42.025424",
   "environment_variables": {},
   "exception": null,
   "input_path": "__notebook__.ipynb",
   "output_path": "__notebook__.ipynb",
   "parameters": {},
   "start_time": "2024-11-24T20:39:23.144543",
   "version": "2.6.0"
  }
 },
 "nbformat": 4,
 "nbformat_minor": 5
}
